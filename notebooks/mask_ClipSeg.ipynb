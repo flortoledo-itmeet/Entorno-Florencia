{
 "cells": [
  {
   "cell_type": "code",
   "execution_count": 18,
   "id": "3b5614a7",
   "metadata": {},
   "outputs": [
    {
     "name": "stderr",
     "output_type": "stream",
     "text": [
      "huggingface/tokenizers: The current process just got forked, after parallelism has already been used. Disabling parallelism to avoid deadlocks...\n",
      "To disable this warning, you can either:\n",
      "\t- Avoid using `tokenizers` before the fork if possible\n",
      "\t- Explicitly set the environment variable TOKENIZERS_PARALLELISM=(true | false)\n"
     ]
    },
    {
     "name": "stdout",
     "output_type": "stream",
     "text": [
      "Requirement already satisfied: transformers in /Users/florenciatoledo/Desktop/Entorno-Florencia/ml_env/lib/python3.9/site-packages (4.52.0.dev0)\n",
      "Requirement already satisfied: torchvision in /Users/florenciatoledo/Desktop/Entorno-Florencia/ml_env/lib/python3.9/site-packages (0.22.0)\n",
      "Requirement already satisfied: torch in /Users/florenciatoledo/Desktop/Entorno-Florencia/ml_env/lib/python3.9/site-packages (2.7.0)\n",
      "Requirement already satisfied: filelock in /Users/florenciatoledo/Desktop/Entorno-Florencia/ml_env/lib/python3.9/site-packages (from transformers) (3.18.0)\n",
      "Requirement already satisfied: huggingface-hub<1.0,>=0.30.0 in /Users/florenciatoledo/Desktop/Entorno-Florencia/ml_env/lib/python3.9/site-packages (from transformers) (0.31.2)\n",
      "Requirement already satisfied: numpy>=1.17 in /Users/florenciatoledo/Desktop/Entorno-Florencia/ml_env/lib/python3.9/site-packages (from transformers) (1.24.3)\n",
      "Requirement already satisfied: packaging>=20.0 in /Users/florenciatoledo/Desktop/Entorno-Florencia/ml_env/lib/python3.9/site-packages (from transformers) (25.0)\n",
      "Requirement already satisfied: pyyaml>=5.1 in /Users/florenciatoledo/Desktop/Entorno-Florencia/ml_env/lib/python3.9/site-packages (from transformers) (6.0.2)\n",
      "Requirement already satisfied: regex!=2019.12.17 in /Users/florenciatoledo/Desktop/Entorno-Florencia/ml_env/lib/python3.9/site-packages (from transformers) (2024.11.6)\n",
      "Requirement already satisfied: requests in /Users/florenciatoledo/Desktop/Entorno-Florencia/ml_env/lib/python3.9/site-packages (from transformers) (2.32.3)\n",
      "Requirement already satisfied: tokenizers<0.22,>=0.21 in /Users/florenciatoledo/Desktop/Entorno-Florencia/ml_env/lib/python3.9/site-packages (from transformers) (0.21.1)\n",
      "Requirement already satisfied: safetensors>=0.4.3 in /Users/florenciatoledo/Desktop/Entorno-Florencia/ml_env/lib/python3.9/site-packages (from transformers) (0.5.3)\n",
      "Requirement already satisfied: tqdm>=4.27 in /Users/florenciatoledo/Desktop/Entorno-Florencia/ml_env/lib/python3.9/site-packages (from transformers) (4.67.1)\n",
      "Requirement already satisfied: fsspec>=2023.5.0 in /Users/florenciatoledo/Desktop/Entorno-Florencia/ml_env/lib/python3.9/site-packages (from huggingface-hub<1.0,>=0.30.0->transformers) (2025.3.2)\n",
      "Requirement already satisfied: typing-extensions>=3.7.4.3 in /Users/florenciatoledo/Desktop/Entorno-Florencia/ml_env/lib/python3.9/site-packages (from huggingface-hub<1.0,>=0.30.0->transformers) (4.13.2)\n",
      "Requirement already satisfied: pillow!=8.3.*,>=5.3.0 in /Users/florenciatoledo/Desktop/Entorno-Florencia/ml_env/lib/python3.9/site-packages (from torchvision) (11.2.1)\n",
      "Requirement already satisfied: sympy>=1.13.3 in /Users/florenciatoledo/Desktop/Entorno-Florencia/ml_env/lib/python3.9/site-packages (from torch) (1.14.0)\n",
      "Requirement already satisfied: networkx in /Users/florenciatoledo/Desktop/Entorno-Florencia/ml_env/lib/python3.9/site-packages (from torch) (3.2.1)\n",
      "Requirement already satisfied: jinja2 in /Users/florenciatoledo/Desktop/Entorno-Florencia/ml_env/lib/python3.9/site-packages (from torch) (3.1.6)\n",
      "Requirement already satisfied: mpmath<1.4,>=1.1.0 in /Users/florenciatoledo/Desktop/Entorno-Florencia/ml_env/lib/python3.9/site-packages (from sympy>=1.13.3->torch) (1.3.0)\n",
      "Requirement already satisfied: MarkupSafe>=2.0 in /Users/florenciatoledo/Desktop/Entorno-Florencia/ml_env/lib/python3.9/site-packages (from jinja2->torch) (3.0.2)\n",
      "Requirement already satisfied: charset-normalizer<4,>=2 in /Users/florenciatoledo/Desktop/Entorno-Florencia/ml_env/lib/python3.9/site-packages (from requests->transformers) (3.4.2)\n",
      "Requirement already satisfied: idna<4,>=2.5 in /Users/florenciatoledo/Desktop/Entorno-Florencia/ml_env/lib/python3.9/site-packages (from requests->transformers) (3.7)\n",
      "Requirement already satisfied: urllib3<3,>=1.21.1 in /Users/florenciatoledo/Desktop/Entorno-Florencia/ml_env/lib/python3.9/site-packages (from requests->transformers) (2.4.0)\n",
      "Requirement already satisfied: certifi>=2017.4.17 in /Users/florenciatoledo/Desktop/Entorno-Florencia/ml_env/lib/python3.9/site-packages (from requests->transformers) (2025.4.26)\n",
      "Note: you may need to restart the kernel to use updated packages.\n"
     ]
    }
   ],
   "source": [
    "pip install transformers torchvision torch"
   ]
  },
  {
   "cell_type": "code",
   "execution_count": 19,
   "id": "ef12cadd",
   "metadata": {},
   "outputs": [],
   "source": [
    "from transformers import CLIPSegProcessor, CLIPSegForImageSegmentation\n",
    "from PIL import Image\n",
    "import torch\n",
    "import matplotlib.pyplot as plt\n",
    "from torchvision.transforms.functional import to_pil_image"
   ]
  },
  {
   "cell_type": "code",
   "execution_count": 20,
   "id": "1f70c140",
   "metadata": {},
   "outputs": [],
   "source": [
    "# Cargar modelo y procesador\n",
    "processor = CLIPSegProcessor.from_pretrained(\"CIDAS/clipseg-rd64-refined\")\n",
    "model = CLIPSegForImageSegmentation.from_pretrained(\"CIDAS/clipseg-rd64-refined\")"
   ]
  },
  {
   "cell_type": "code",
   "execution_count": null,
   "id": "ee8c72b1",
   "metadata": {},
   "outputs": [],
   "source": [
    "# Cargar imagen del cliente\n",
    "image = Image.open(\"../data/5_image_women_fringe.jpg\").convert(\"RGB\")\n",
    "prompt = \"hair\" "
   ]
  },
  {
   "cell_type": "code",
   "execution_count": 22,
   "id": "95931d1d",
   "metadata": {},
   "outputs": [],
   "source": [
    "# Preparar inputs\n",
    "inputs = processor(text=prompt, images=image, return_tensors=\"pt\")"
   ]
  },
  {
   "cell_type": "code",
   "execution_count": 23,
   "id": "57360fed",
   "metadata": {},
   "outputs": [],
   "source": [
    "# Inferencia\n",
    "with torch.no_grad():\n",
    "    outputs = model(**inputs)"
   ]
  },
  {
   "cell_type": "code",
   "execution_count": 24,
   "id": "d1ccd2d3",
   "metadata": {},
   "outputs": [],
   "source": [
    "# Obtener máscara\n",
    "pred_mask = torch.sigmoid(outputs.logits)[0]  # shape: [1, 352, 352]\n",
    "pred_mask = pred_mask.squeeze().cpu().numpy() \n",
    "binary_mask = (pred_mask > 0.5).astype(\"float32\")\n",
    "inverted_mask = 1.0 - binary_mask"
   ]
  },
  {
   "cell_type": "code",
   "execution_count": 25,
   "id": "c38db16a",
   "metadata": {},
   "outputs": [
    {
     "data": {
      "image/png": "[encoded data removed]",
      "text/plain": [
       "<Figure size 640x480 with 1 Axes>"
      ]
     },
     "metadata": {},
     "output_type": "display_data"
    }
   ],
   "source": [
    "# Mostrar máscara\n",
    "plt.imshow(inverted_mask, cmap=\"gray\")\n",
    "plt.axis(\"off\")\n",
    "plt.show()"
   ]
  },
  {
   "cell_type": "code",
   "execution_count": 26,
   "id": "9727ad60",
   "metadata": {},
   "outputs": [],
   "source": [
    "# Convertir a imagen PIL y guardar\n",
    "to_pil_image(torch.tensor(inverted_mask)).save(\"../data/5_mask_clipseg.png\")\n"
   ]
  }
 ],
 "metadata": {
  "kernelspec": {
   "display_name": "ml_env",
   "language": "python",
   "name": "python3"
  },
  "language_info": {
   "codemirror_mode": {
    "name": "ipython",
    "version": 3
   },
   "file_extension": ".py",
   "mimetype": "text/x-python",
   "name": "python",
   "nbconvert_exporter": "python",
   "pygments_lexer": "ipython3",
   "version": "3.9.22"
  }
 },
 "nbformat": 4,
 "nbformat_minor": 5
}

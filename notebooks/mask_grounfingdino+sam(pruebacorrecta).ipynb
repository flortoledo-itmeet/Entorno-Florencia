{
 "cells": [
  {
   "cell_type": "code",
   "execution_count": 386,
   "id": "17438ba0",
   "metadata": {},
   "outputs": [
    {
     "name": "stdout",
     "output_type": "stream",
     "text": [
      "Note: you may need to restart the kernel to use updated packages.\n"
     ]
    }
   ],
   "source": [
    "pip install --upgrade -q git+https://github.com/huggingface/transformers"
   ]
  },
  {
   "cell_type": "code",
   "execution_count": 387,
   "id": "9b2b5172",
   "metadata": {},
   "outputs": [
    {
     "name": "stdout",
     "output_type": "stream",
     "text": [
      "Requirement already satisfied: plotly in /Users/florenciatoledo/Desktop/Entorno-Florencia/ml_env/lib/python3.9/site-packages (6.0.1)\n",
      "Requirement already satisfied: narwhals>=1.15.1 in /Users/florenciatoledo/Desktop/Entorno-Florencia/ml_env/lib/python3.9/site-packages (from plotly) (1.39.0)\n",
      "Requirement already satisfied: packaging in /Users/florenciatoledo/Desktop/Entorno-Florencia/ml_env/lib/python3.9/site-packages (from plotly) (25.0)\n",
      "Note: you may need to restart the kernel to use updated packages.\n"
     ]
    }
   ],
   "source": [
    "pip install plotly"
   ]
  },
  {
   "cell_type": "code",
   "execution_count": 388,
   "id": "0a246dc2",
   "metadata": {},
   "outputs": [],
   "source": [
    "# Se importan librerías necesarias \n",
    "import random\n",
    "from dataclasses import dataclass\n",
    "from typing import Any, List, Dict, Optional, Union, Tuple\n",
    "\n",
    "# Librerías para procesamiento de imágenes\n",
    "import cv2\n",
    "import torch\n",
    "import requests\n",
    "import numpy as np\n",
    "from PIL import Image\n",
    "\n",
    "# Modelos preentrenados para segmentación\n",
    "import matplotlib.pyplot as plt\n",
    "from transformers import AutoModelForMaskGeneration, AutoProcessor, pipeline, AutoModel\n",
    "from diffusers import StableDiffusionInpaintPipeline"
   ]
  },
  {
   "cell_type": "code",
   "execution_count": 389,
   "id": "9d7fbf3f",
   "metadata": {},
   "outputs": [],
   "source": [
    "# Clase para representar un rectángulo delimitador en la imagen alrededor de un objeto\n",
    "\n",
    "@dataclass\n",
    "class BoundingBox: \n",
    "    xmin: int \n",
    "    ymin: int\n",
    "    xmax: int\n",
    "    ymax: int\n",
    "    \n",
    "    # Devuelve una lista con los valores de las variables\n",
    "     \n",
    "    @property\n",
    "    def xyxy(self) -> List[float]:\n",
    "        return [self.xmin, self.ymin, self.xmax, self.ymax]"
   ]
  },
  {
   "cell_type": "code",
   "execution_count": 390,
   "id": "7dff7ffa",
   "metadata": {},
   "outputs": [],
   "source": [
    "# Clase que representa un resultado de detección\n",
    "\n",
    "@dataclass\n",
    "class DetectionResult:\n",
    "    score: float                        # Confianza del modelo en la detección del objeto\n",
    "    label: str                          # Etiqueta del objeto detectado\n",
    "    box: BoundingBox                    # Coordenadas del rectángulo\n",
    "    mask: Optional[np.array] = None     # Máscara de segmentación del objeto detectado\n",
    "\n",
    "    #  Método que toma un diccionario como argumento, que se espera que contenga la información de una detección\n",
    "    #  Devuelve una instancia de la clase 'DetectionResult'\n",
    "    \n",
    "    @classmethod\n",
    "    def from_dict(cls, detection_dict: Dict) -> 'DetectionResult':\n",
    "        return cls(score=detection_dict['score'],\n",
    "                   label=detection_dict['label'],\n",
    "                   box=BoundingBox(xmin=detection_dict['box']['xmin'],\n",
    "                                   ymin=detection_dict['box']['ymin'],\n",
    "                                   xmax=detection_dict['box']['xmax'],\n",
    "                                   ymax=detection_dict['box']['ymax']))"
   ]
  },
  {
   "cell_type": "code",
   "execution_count": 391,
   "id": "a41a3e09",
   "metadata": {},
   "outputs": [],
   "source": [
    "# Carga una imagen desde una URL o desde el disco\n",
    "\n",
    "def load_image(image_str: str) -> Image.Image:\n",
    "    if image_str.startswith(\"http\"):\n",
    "        image = Image.open(requests.get(image_str, stream=True).raw).convert(\"RGB\")\n",
    "    else:\n",
    "        image = Image.open(image_str).convert(\"RGB\")\n",
    "    return image"
   ]
  },
  {
   "cell_type": "code",
   "execution_count": 392,
   "id": "0388b71d",
   "metadata": {},
   "outputs": [],
   "source": [
    "# Extrae las bounding boxes de las detecciones\n",
    "\n",
    "def get_boxes(results: List[DetectionResult]) -> List[List[List[float]]]:\n",
    "    return [[result.box.xyxy for result in results]]"
   ]
  },
  {
   "cell_type": "code",
   "execution_count": 393,
   "id": "f6cc376d",
   "metadata": {},
   "outputs": [],
   "source": [
    "# Convierte las máscaras en listas de arrays numpy\n",
    "\n",
    "def refine_masks(masks: torch.BoolTensor, polygon_refinement: bool = False) -> List[np.ndarray]:\n",
    "    masks = masks.cpu().float()\n",
    "    masks = masks.permute(0, 2, 3, 1).mean(axis=-1)\n",
    "    masks = (masks > 0).int().cpu().numpy().astype(np.uint8)\n",
    "    masks = list(masks)  # Lista de máscaras individuales\n",
    "\n",
    "    if polygon_refinement:\n",
    "        for idx, mask in enumerate(masks):\n",
    "            polygon = mask_to_polygon(mask)\n",
    "            masks[idx] = polygon_to_mask(polygon, mask.shape)\n",
    "\n",
    "    return masks"
   ]
  },
  {
   "cell_type": "code",
   "execution_count": 394,
   "id": "92df15d1",
   "metadata": {},
   "outputs": [],
   "source": [
    "# Convierte una máscara binaria en un polígono (contorno más grande)\n",
    "\n",
    "def mask_to_polygon(mask: np.ndarray) -> List[List[int]]:\n",
    "    contours, _ = cv2.findContours(mask.astype(np.uint8), cv2.RETR_EXTERNAL, cv2.CHAIN_APPROX_SIMPLE)\n",
    "    largest_contour = max(contours, key=cv2.contourArea)\n",
    "    return largest_contour.reshape(-1, 2).tolist()"
   ]
  },
  {
   "cell_type": "code",
   "execution_count": 395,
   "id": "aa49e9b0",
   "metadata": {},
   "outputs": [],
   "source": [
    "# Convierte un polígono en una máscara binaria\n",
    "\n",
    "def polygon_to_mask(polygon: List[Tuple[int, int]], image_shape: Tuple[int, int]) -> np.ndarray:\n",
    "    mask = np.zeros(image_shape, dtype=np.uint8)\n",
    "    pts = np.array(polygon, dtype=np.int32)\n",
    "    cv2.fillPoly(mask, [pts], color=(255,))\n",
    "    return mask"
   ]
  },
  {
   "cell_type": "code",
   "execution_count": 396,
   "id": "9094c1aa",
   "metadata": {},
   "outputs": [],
   "source": [
    "# Devuelve una imagen donde la región de la máscara está en negro y el resto en blanco \n",
    "\n",
    "def isolate_mask_region(image: np.ndarray, mask: np.ndarray, invert: bool = False) -> np.ndarray:\n",
    "    mask = mask.astype(np.uint8)\n",
    "    if invert:\n",
    "        mask = cv2.bitwise_not(mask)\n",
    "\n",
    "    white_background = np.ones_like(image) * 255\n",
    "    if len(mask.shape) == 2:\n",
    "        mask_3ch = np.stack([mask]*3, axis=-1)\n",
    "    else:\n",
    "        mask_3ch = mask\n",
    "\n",
    "    result = cv2.bitwise_and(white_background, 255 - mask_3ch)\n",
    "    return result"
   ]
  },
  {
   "cell_type": "code",
   "execution_count": 397,
   "id": "aec8521b",
   "metadata": {},
   "outputs": [],
   "source": [
    "# Detecta objetos en una imagen usando Grounding DINO con etiquetas personalizadas\n",
    "\n",
    "def detect(image: Image.Image, labels: List[str], threshold: float = 0.3, detector_id: Optional[str] = None) -> List[DetectionResult]:\n",
    "    device = \"cuda\" if torch.cuda.is_available() else \"cpu\"\n",
    "    detector_id = detector_id or \"IDEA-Research/grounding-dino-tiny\"\n",
    "    object_detector = pipeline(model=detector_id, task=\"zero-shot-object-detection\", device=device)\n",
    "    labels = [label if label.endswith(\".\") else label + \".\" for label in labels]\n",
    "    results = object_detector(image, candidate_labels=labels, threshold=threshold)\n",
    "    return [DetectionResult.from_dict(result) for result in results]"
   ]
  },
  {
   "cell_type": "code",
   "execution_count": 398,
   "id": "cae7648a",
   "metadata": {},
   "outputs": [],
   "source": [
    "# Aplica SAM (Segment Anything Model) para generar máscaras de los objetos detectados\n",
    "\n",
    "def segment(image: Image.Image, detection_results: List[DetectionResult], polygon_refinement: bool = False, segmenter_id: Optional[str] = None) -> List[DetectionResult]:\n",
    "    device = \"cuda\" if torch.cuda.is_available() else \"cpu\"\n",
    "    segmenter_id = segmenter_id or \"facebook/sam-vit-base\"\n",
    "    segmentator = AutoModel.from_pretrained(segmenter_id).to(device)\n",
    "    processor = AutoProcessor.from_pretrained(segmenter_id)\n",
    "\n",
    "    boxes = get_boxes(detection_results)\n",
    "    inputs = processor(images=image, input_boxes=boxes, return_tensors=\"pt\").to(device)\n",
    "    outputs = segmentator(**inputs)\n",
    "    masks = processor.post_process_masks(\n",
    "        masks=outputs.pred_masks,\n",
    "        original_sizes=inputs.original_sizes,\n",
    "        reshaped_input_sizes=inputs.reshaped_input_sizes\n",
    "    )[0]\n",
    "\n",
    "    masks = refine_masks(masks, polygon_refinement)\n",
    "    for detection_result, mask in zip(detection_results, masks):\n",
    "        detection_result.mask = mask\n",
    "\n",
    "    return detection_results"
   ]
  },
  {
   "cell_type": "code",
   "execution_count": 399,
   "id": "2d340b56",
   "metadata": {},
   "outputs": [],
   "source": [
    "\"\"\"\"\n",
    "    Pipeline completo:\n",
    "    - Carga la imagen\n",
    "    - Detecta objetos\n",
    "    - Segmenta objetos detectados\n",
    "    - Devuelve la imagen y las detecciones con sus máscaras\n",
    "\"\"\"\n",
    "def grounded_segmentation(\n",
    "    image: Union[Image.Image, str],\n",
    "    labels: List[str],\n",
    "    threshold: float = 0.3,\n",
    "    polygon_refinement: bool = False,\n",
    "    detector_id: Optional[str] = None,\n",
    "    segmenter_id: Optional[str] = None\n",
    ") -> Tuple[np.ndarray, List[DetectionResult]]:\n",
    "    if isinstance(image, str):\n",
    "        image = load_image(image)\n",
    "\n",
    "    detections = detect(image, labels, threshold, detector_id)\n",
    "    detections = segment(image, detections, polygon_refinement, segmenter_id)\n",
    "\n",
    "    return np.array(image), detections"
   ]
  },
  {
   "cell_type": "code",
   "execution_count": null,
   "id": "d1c33f13",
   "metadata": {},
   "outputs": [],
   "source": [
    "image_path = \"../data/5_image_women_fringe.jpg\"\n",
    "labels = [\"a hair\"]\n",
    "threshold = 0.3\n",
    "detector_id = \"IDEA-Research/grounding-dino-tiny\"\n",
    "segmenter_id = \"facebook/sam-vit-base\""
   ]
  },
  {
   "cell_type": "code",
   "execution_count": 401,
   "id": "72dc0305",
   "metadata": {},
   "outputs": [
    {
     "name": "stderr",
     "output_type": "stream",
     "text": [
      "Device set to use cpu\n"
     ]
    }
   ],
   "source": [
    "# Detectar y segmentar\n",
    "\n",
    "image_array, detections = grounded_segmentation(\n",
    "    image=image_path,\n",
    "    labels=labels,\n",
    "    threshold=threshold,\n",
    "    polygon_refinement=True,\n",
    "    detector_id=detector_id,\n",
    "    segmenter_id=segmenter_id\n",
    ")"
   ]
  },
  {
   "cell_type": "code",
   "execution_count": 402,
   "id": "e6d81af2",
   "metadata": {},
   "outputs": [],
   "source": [
    "# Obtener la máscara del cabello (primera detección)\n",
    "hair_mask = detections[0].mask"
   ]
  },
  {
   "cell_type": "code",
   "execution_count": 403,
   "id": "ea07f68f",
   "metadata": {},
   "outputs": [],
   "source": [
    "# Generar imagen blanco + cabello negro\n",
    "output_image = isolate_mask_region(image_array, hair_mask, invert=False)"
   ]
  },
  {
   "cell_type": "code",
   "execution_count": 404,
   "id": "97c35304",
   "metadata": {},
   "outputs": [
    {
     "data": {
      "image/png": "[encoded data removed]",
      "text/plain": [
       "<Figure size 640x480 with 1 Axes>"
      ]
     },
     "metadata": {},
     "output_type": "display_data"
    }
   ],
   "source": [
    "# Mostrar el resultado\n",
    "plt.imshow(output_image)\n",
    "plt.axis('off')\n",
    "plt.show()"
   ]
  },
  {
   "cell_type": "code",
   "execution_count": 405,
   "id": "16aafd10",
   "metadata": {},
   "outputs": [],
   "source": [
    "image = Image.fromarray(output_image)\n",
    "image.save(\"../data/5_mask_grounding_dino.png\")"
   ]
  }
 ],
 "metadata": {
  "kernelspec": {
   "display_name": "ml_env",
   "language": "python",
   "name": "python3"
  },
  "language_info": {
   "codemirror_mode": {
    "name": "ipython",
    "version": 3
   },
   "file_extension": ".py",
   "mimetype": "text/x-python",
   "name": "python",
   "nbconvert_exporter": "python",
   "pygments_lexer": "ipython3",
   "version": "3.9.22"
  }
 },
 "nbformat": 4,
 "nbformat_minor": 5
}

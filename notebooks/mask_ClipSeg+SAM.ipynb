{
 "cells": [
  {
   "cell_type": "code",
   "execution_count": 41,
   "id": "5b265697",
   "metadata": {},
   "outputs": [
    {
     "name": "stderr",
     "output_type": "stream",
     "text": [
      "huggingface/tokenizers: The current process just got forked, after parallelism has already been used. Disabling parallelism to avoid deadlocks...\n",
      "To disable this warning, you can either:\n",
      "\t- Avoid using `tokenizers` before the fork if possible\n",
      "\t- Explicitly set the environment variable TOKENIZERS_PARALLELISM=(true | false)\n"
     ]
    },
    {
     "name": "stdout",
     "output_type": "stream",
     "text": [
      "Note: you may need to restart the kernel to use updated packages.\n"
     ]
    }
   ],
   "source": [
    "pip install --upgrade -q git+https://github.com/huggingface/transformers"
   ]
  },
  {
   "cell_type": "code",
   "execution_count": 42,
   "id": "107e1096",
   "metadata": {},
   "outputs": [
    {
     "name": "stderr",
     "output_type": "stream",
     "text": [
      "huggingface/tokenizers: The current process just got forked, after parallelism has already been used. Disabling parallelism to avoid deadlocks...\n",
      "To disable this warning, you can either:\n",
      "\t- Avoid using `tokenizers` before the fork if possible\n",
      "\t- Explicitly set the environment variable TOKENIZERS_PARALLELISM=(true | false)\n"
     ]
    },
    {
     "name": "stdout",
     "output_type": "stream",
     "text": [
      "Note: you may need to restart the kernel to use updated packages.\n"
     ]
    }
   ],
   "source": [
    "pip install --upgrade -q git+https://github.com/facebookresearch/segment-anything"
   ]
  },
  {
   "cell_type": "code",
   "execution_count": 43,
   "id": "e8ce00a6",
   "metadata": {},
   "outputs": [
    {
     "data": {
      "image/png": "[encoded data removed]",
      "text/plain": [
       "<Figure size 1200x400 with 1 Axes>"
      ]
     },
     "metadata": {},
     "output_type": "display_data"
    }
   ],
   "source": [
    "import torch\n",
    "import numpy as np\n",
    "import matplotlib.pyplot as plt\n",
    "from PIL import Image\n",
    "import cv2\n",
    "\n",
    "from transformers import CLIPSegProcessor, CLIPSegForImageSegmentation\n",
    "from transformers import SamModel, SamProcessor\n",
    "\n",
    "# --- CARGAR MODELOS ---\n",
    "clipseg_model = CLIPSegForImageSegmentation.from_pretrained(\"CIDAS/clipseg-rd64-refined\")\n",
    "clipseg_processor = CLIPSegProcessor.from_pretrained(\"CIDAS/clipseg-rd64-refined\")\n",
    "\n",
    "sam_model = SamModel.from_pretrained(\"facebook/sam-vit-base\")\n",
    "sam_processor = SamProcessor.from_pretrained(\"facebook/sam-vit-base\")\n",
    "\n",
    "# --- CARGAR IMAGEN LOCAL ---\n",
    "image_path = \"../data/5_image_women_fringe.jpg\"\n",
    "image = Image.open(image_path).convert(\"RGB\")\n",
    "image_np = np.array(image)\n",
    "\n",
    "# --- CLIPSeg: segmentar \"hair\" ---\n",
    "prompt = \"hair ans fringe\"\n",
    "inputs_clipseg = clipseg_processor(text=prompt, images=image, return_tensors=\"pt\")\n",
    "with torch.no_grad():\n",
    "    outputs_clipseg = clipseg_model(**inputs_clipseg)\n",
    "\n",
    "pred_mask = torch.sigmoid(outputs_clipseg.logits)[0].squeeze().cpu().numpy()\n",
    "binary_mask = (pred_mask > 0.5).astype(\"uint8\")\n",
    "resized_mask = cv2.resize(binary_mask, image.size)  # a tamaño original\n",
    "\n",
    "# --- Bounding box del cabello ---\n",
    "ys, xs = np.where(resized_mask == 1)\n",
    "if len(xs) == 0 or len(ys) == 0:\n",
    "    raise ValueError(\"CLIPSeg no detectó cabello con ese prompt.\")\n",
    "x_min, x_max = np.min(xs), np.max(xs)\n",
    "y_min, y_max = np.min(ys), np.max(ys)\n",
    "\n",
    "# Margen de seguridad\n",
    "margin = 10\n",
    "x_min = max(x_min - margin, 0)\n",
    "x_max = min(x_max + margin, image.size[0])\n",
    "y_min = max(y_min - margin, 0)\n",
    "y_max = min(y_max + margin, image.size[1])\n",
    "\n",
    "# --- Recortar imagen y calcular punto central dentro del recorte ---\n",
    "cropped_image = image.crop((x_min, y_min, x_max, y_max))\n",
    "crop_np = np.array(cropped_image)\n",
    "\n",
    "# Punto central del recorte\n",
    "h_crop, w_crop = crop_np.shape[:2]\n",
    "x_center_crop = w_crop // 2\n",
    "y_center_crop = h_crop // 2\n",
    "\n",
    "# --- SAM sobre el recorte ---\n",
    "input_points = [[[x_center_crop, y_center_crop]]]\n",
    "input_labels = [[1]]  # foreground\n",
    "\n",
    "inputs_sam = sam_processor(cropped_image, input_points=input_points, input_labels=input_labels, return_tensors=\"pt\")\n",
    "with torch.no_grad():\n",
    "    outputs_sam = sam_model(**inputs_sam)\n",
    "\n",
    "masks = sam_processor.image_processor.post_process_masks(\n",
    "    outputs_sam.pred_masks, inputs_sam[\"original_sizes\"], inputs_sam[\"reshaped_input_sizes\"]\n",
    ")\n",
    "\n",
    "refined_crop_mask = masks[0][0].cpu().numpy()\n",
    "\n",
    "# Si tiene 3 canales, tomar solo uno\n",
    "if refined_crop_mask.ndim == 3 and refined_crop_mask.shape[0] == 3:\n",
    "    refined_crop_mask = refined_crop_mask[0]\n",
    "\n",
    "# Asegurar que sea 2D\n",
    "refined_crop_mask = np.squeeze(refined_crop_mask)\n",
    "\n",
    "# Binarizar (invertido)\n",
    "refined_crop_mask = (refined_crop_mask > 0.5).astype(\"float32\")\n",
    "\n",
    "# --- Reconstruir máscara completa con fondo blanco ---\n",
    "final_mask = np.ones((image.size[1], image.size[0]), dtype=\"float32\")  # (H, W)\n",
    "final_mask[y_min:y_max, x_min:x_max] = 1.0 - refined_crop_mask  # cabello en negro\n",
    "\n",
    "# --- VISUALIZACIÓN ---\n",
    "plt.figure(figsize=(12, 4))\n",
    "plt.imshow(final_mask, cmap=\"gray\")\n",
    "plt.axis(\"off\")\n",
    "\n",
    "plt.tight_layout()\n",
    "plt.show()\n",
    "\n",
    "final_mask_img = (final_mask * 255).astype(\"uint8\")  # Escalar a 0–255\n",
    "Image.fromarray(final_mask_img).save(\"../data/5_mask_clipseg+sam.png\")"
   ]
  }
 ],
 "metadata": {
  "kernelspec": {
   "display_name": "ml_env",
   "language": "python",
   "name": "python3"
  },
  "language_info": {
   "codemirror_mode": {
    "name": "ipython",
    "version": 3
   },
   "file_extension": ".py",
   "mimetype": "text/x-python",
   "name": "python",
   "nbconvert_exporter": "python",
   "pygments_lexer": "ipython3",
   "version": "3.9.22"
  }
 },
 "nbformat": 4,
 "nbformat_minor": 5
}
